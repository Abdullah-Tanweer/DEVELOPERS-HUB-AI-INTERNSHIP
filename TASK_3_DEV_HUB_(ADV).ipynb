{
  "nbformat": 4,
  "nbformat_minor": 0,
  "metadata": {
    "colab": {
      "provenance": [],
      "authorship_tag": "ABX9TyM3zO0Xav8fpDxWcEuuTTVQ",
      "include_colab_link": true
    },
    "kernelspec": {
      "name": "python3",
      "display_name": "Python 3"
    },
    "language_info": {
      "name": "python"
    }
  },
  "cells": [
    {
      "cell_type": "markdown",
      "metadata": {
        "id": "view-in-github",
        "colab_type": "text"
      },
      "source": [
        "<a href=\"https://colab.research.google.com/github/Abdullah-Tanweer/DEVELOPERS-HUB-AI-INTERNSHIP/blob/main/TASK_3_DEV_HUB_(ADV).ipynb\" target=\"_parent\"><img src=\"https://colab.research.google.com/assets/colab-badge.svg\" alt=\"Open In Colab\"/></a>"
      ]
    },
    {
      "cell_type": "code",
      "execution_count": null,
      "metadata": {
        "id": "JVfgR24OtbGF"
      },
      "outputs": [],
      "source": [
        "pip install torch torchvision pandas scikit-learn matplotlib pillow\n"
      ]
    },
    {
      "cell_type": "code",
      "source": [
        "import pandas as pd\n",
        "from sklearn.model_selection import train_test_split\n",
        "\n",
        "df = pd.read_csv(\"housing_data.csv\")  # Includes 'image_path' and tabular features + target\n",
        "df.dropna(inplace=True)\n",
        "\n",
        "# Split\n",
        "train_df, test_df = train_test_split(df, test_size=0.2, random_state=42)\n"
      ],
      "metadata": {
        "id": "5rldjF3ftsEP"
      },
      "execution_count": null,
      "outputs": []
    },
    {
      "cell_type": "code",
      "source": [
        "import torch\n",
        "from torchvision import models, transforms\n",
        "from PIL import Image\n",
        "import os\n",
        "\n",
        "# Pretrained CNN (ResNet18)\n",
        "resnet = models.resnet18(pretrained=True)\n",
        "resnet.fc = torch.nn.Identity()  # Remove final classification layer\n",
        "resnet.eval()\n",
        "\n",
        "# Image transforms\n",
        "image_transform = transforms.Compose([\n",
        "    transforms.Resize((224, 224)),\n",
        "    transforms.ToTensor(),\n",
        "    transforms.Normalize([0.485, 0.456, 0.406],\n",
        "                         [0.229, 0.224, 0.225])\n",
        "])\n",
        "\n",
        "# Feature extractor\n",
        "def extract_image_features(image_path):\n",
        "    img = Image.open(image_path).convert(\"RGB\")\n",
        "    img_tensor = image_transform(img).unsqueeze(0)  # Add batch dimension\n",
        "    with torch.no_grad():\n",
        "        features = resnet(img_tensor)\n",
        "    return features.squeeze().numpy()  # 512-dim vector\n"
      ],
      "metadata": {
        "id": "R0pzkP_RtuYf"
      },
      "execution_count": null,
      "outputs": []
    },
    {
      "cell_type": "code",
      "source": [
        "from sklearn.preprocessing import StandardScaler\n",
        "\n",
        "# Define tabular features (e.g., bedrooms, bathrooms, sqft)\n",
        "tabular_features = ['bedrooms', 'bathrooms', 'sqft', 'year_built']  # example\n",
        "target = 'price'\n",
        "\n",
        "# Fit scaler on train set\n",
        "scaler = StandardScaler()\n",
        "scaler.fit(train_df[tabular_features])\n"
      ],
      "metadata": {
        "id": "B3ZhPXjYtwrn"
      },
      "execution_count": null,
      "outputs": []
    },
    {
      "cell_type": "code",
      "source": [
        "import numpy as np\n",
        "\n",
        "def build_feature_matrix(df):\n",
        "    image_features = np.stack([extract_image_features(os.path.join(\"images\", p)) for p in df['image_path']])\n",
        "    tabular_scaled = scaler.transform(df[tabular_features])\n",
        "    combined = np.hstack([image_features, tabular_scaled])\n",
        "    return combined, df[target].values\n",
        "\n",
        "X_train, y_train = build_feature_matrix(train_df)\n",
        "X_test, y_test = build_feature_matrix(test_df)\n"
      ],
      "metadata": {
        "id": "8goe0-phtyin"
      },
      "execution_count": null,
      "outputs": []
    },
    {
      "cell_type": "code",
      "source": [
        "import torch.nn as nn\n",
        "import torch.optim as optim\n",
        "from torch.utils.data import TensorDataset, DataLoader\n",
        "\n",
        "# Convert to torch tensors\n",
        "train_ds = TensorDataset(torch.tensor(X_train, dtype=torch.float32),\n",
        "                         torch.tensor(y_train, dtype=torch.float32).unsqueeze(1))\n",
        "test_ds = TensorDataset(torch.tensor(X_test, dtype=torch.float32),\n",
        "                        torch.tensor(y_test, dtype=torch.float32).unsqueeze(1))\n",
        "\n",
        "train_loader = DataLoader(train_ds, batch_size=32, shuffle=True)\n",
        "test_loader = DataLoader(test_ds, batch_size=32)\n",
        "\n",
        "# Model definition\n",
        "class MultimodalRegressor(nn.Module):\n",
        "    def __init__(self, input_dim):\n",
        "        super().__init__()\n",
        "        self.model = nn.Sequential(\n",
        "            nn.Linear(input_dim, 256),\n",
        "            nn.ReLU(),\n",
        "            nn.Dropout(0.3),\n"
      ],
      "metadata": {
        "id": "XBmCKpqpt0sG"
      },
      "execution_count": null,
      "outputs": []
    },
    {
      "cell_type": "code",
      "source": [
        "# Training loop\n",
        "for epoch in range(20):\n",
        "    model.train()\n",
        "    running_loss = 0.0\n",
        "    for xb, yb in train_loader:\n",
        "        optimizer.zero_grad()\n",
        "        preds = model(xb)\n",
        "        loss = criterion(preds, yb)\n",
        "        loss.backward()\n",
        "        optimizer.step()\n",
        "        running_loss += loss.item()\n",
        "\n",
        "    print(f\"Epoch {epoch+1}, Loss: {running_loss/len(train_loader):.4f}\")\n"
      ],
      "metadata": {
        "id": "gHSHpA1lt7Ju"
      },
      "execution_count": null,
      "outputs": []
    },
    {
      "cell_type": "code",
      "source": [
        "from sklearn.metrics import mean_absolute_error, mean_squared_error\n",
        "import numpy as np\n",
        "\n",
        "model.eval()\n",
        "with torch.no_grad():\n",
        "    preds = model(torch.tensor(X_test, dtype=torch.float32)).squeeze().numpy()\n",
        "\n",
        "mae = mean_absolute_error(y_test, preds)\n",
        "rmse = mean_squared_error(y_test, preds, squared=False)\n",
        "\n",
        "print(f\"MAE: ${mae:.2f}\")\n",
        "print(f\"RMSE: ${rmse:.2f}\")\n"
      ],
      "metadata": {
        "id": "J90sjKIqt-Nn"
      },
      "execution_count": null,
      "outputs": []
    }
  ]
}
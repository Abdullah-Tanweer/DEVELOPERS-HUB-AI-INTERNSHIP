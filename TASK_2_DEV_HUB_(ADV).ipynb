{
  "nbformat": 4,
  "nbformat_minor": 0,
  "metadata": {
    "colab": {
      "provenance": [],
      "authorship_tag": "ABX9TyPEyVHaYqQF3XHPR4dhfEoJ",
      "include_colab_link": true
    },
    "kernelspec": {
      "name": "python3",
      "display_name": "Python 3"
    },
    "language_info": {
      "name": "python"
    }
  },
  "cells": [
    {
      "cell_type": "markdown",
      "metadata": {
        "id": "view-in-github",
        "colab_type": "text"
      },
      "source": [
        "<a href=\"https://colab.research.google.com/github/Abdullah-Tanweer/DEVELOPERS-HUB-AI-INTERNSHIP/blob/main/TASK_2_DEV_HUB_(ADV).ipynb\" target=\"_parent\"><img src=\"https://colab.research.google.com/assets/colab-badge.svg\" alt=\"Open In Colab\"/></a>"
      ]
    },
    {
      "cell_type": "code",
      "execution_count": null,
      "metadata": {
        "id": "17RyQyVFsW5q"
      },
      "outputs": [],
      "source": [
        "pip install pandas scikit-learn joblib\n"
      ]
    },
    {
      "cell_type": "code",
      "source": [
        "import pandas as pd\n",
        "\n",
        "# Load dataset\n",
        "df = pd.read_csv(\"Telco-Customer-Churn.csv\")\n",
        "\n",
        "# Drop customerID\n",
        "df.drop(\"customerID\", axis=1, inplace=True)\n",
        "\n",
        "# Replace 'No internet service' or similar values with 'No'\n",
        "df.replace(\"No internet service\", \"No\", inplace=True)\n",
        "df.replace(\"No phone service\", \"No\", inplace=True)\n",
        "\n",
        "# Target variable\n",
        "df['Churn'] = df['Churn'].map({'Yes': 1, 'No': 0})\n"
      ],
      "metadata": {
        "id": "bUY8SvPjsmjI"
      },
      "execution_count": null,
      "outputs": []
    },
    {
      "cell_type": "code",
      "source": [
        "from sklearn.compose import ColumnTransformer\n",
        "from sklearn.preprocessing import StandardScaler, OneHotEncoder\n",
        "from sklearn.pipeline import Pipeline\n",
        "from sklearn.model_selection import train_test_split\n",
        "\n",
        "# Identify feature types\n",
        "num_features = ['tenure', 'MonthlyCharges', 'TotalCharges']\n",
        "cat_features = [col for col in df.columns if col not in num_features + ['Churn']]\n",
        "\n",
        "# Convert TotalCharges to numeric\n",
        "df['TotalCharges'] = pd.to_numeric(df['TotalCharges'], errors='coerce')\n",
        "df.dropna(inplace=True)\n",
        "\n",
        "# Split dataset\n",
        "X = df.drop(\"Churn\", axis=1)\n",
        "y = df[\"Churn\"]\n",
        "X_train, X_test, y_train, y_test = train_test_split(X, y, test_size=0.2, stratify=y, random_state=42)\n",
        "\n",
        "# Preprocessor\n",
        "preprocessor = ColumnTransformer(\n",
        "    transformers=[\n",
        "        (\"num\", StandardScaler(), num_features),\n",
        "        (\"cat\", OneHotEncoder(handle_unknown=\"ignore\"), cat_features),\n",
        "    ]\n",
        ")\n"
      ],
      "metadata": {
        "id": "XDQJmT83sqm_"
      },
      "execution_count": null,
      "outputs": []
    },
    {
      "cell_type": "code",
      "source": [
        "from sklearn.linear_model import LogisticRegression\n",
        "from sklearn.ensemble import RandomForestClassifier\n",
        "\n",
        "# Logistic Regression pipeline\n",
        "logreg_pipeline = Pipeline(steps=[\n",
        "    (\"preprocessor\", preprocessor),\n",
        "    (\"classifier\", LogisticRegression(max_iter=1000))\n",
        "])\n",
        "\n",
        "# Random Forest pipeline\n",
        "rf_pipeline = Pipeline(steps=[\n",
        "    (\"preprocessor\", preprocessor),\n",
        "    (\"classifier\", RandomForestClassifier(random_state=42))\n",
        "])\n"
      ],
      "metadata": {
        "id": "IqTuqnG_s1qY"
      },
      "execution_count": null,
      "outputs": []
    },
    {
      "cell_type": "code",
      "source": [
        "from sklearn.model_selection import GridSearchCV\n",
        "\n",
        "# Define parameter grids\n",
        "logreg_param_grid = {\n",
        "    \"classifier__C\": [0.01, 0.1, 1, 10],\n",
        "    \"classifier__penalty\": [\"l2\"],\n",
        "    \"classifier__solver\": [\"lbfgs\"]\n",
        "}\n",
        "\n",
        "rf_param_grid = {\n",
        "    \"classifier__n_estimators\": [100, 200],\n",
        "    \"classifier__max_depth\": [5, 10, None],\n",
        "    \"classifier__min_samples_split\": [2, 5]\n",
        "}\n",
        "\n",
        "# Grid Search for Logistic Regression\n",
        "logreg_grid = GridSearchCV(logreg_pipeline, logreg_param_grid, cv=5, scoring=\"accuracy\", n_jobs=-1)\n",
        "logreg_grid.fit(X_train, y_train)\n",
        "\n",
        "# Grid Search for Random Forest\n",
        "rf_grid = GridSearchCV(rf_pipeline, rf_param_grid, cv=5, scoring=\"accuracy\", n_jobs=-1)\n",
        "rf_grid.fit(X_train, y_train)\n"
      ],
      "metadata": {
        "id": "OXQKWBGjs4Ff"
      },
      "execution_count": null,
      "outputs": []
    },
    {
      "cell_type": "code",
      "source": [
        "from sklearn.metrics import classification_report\n",
        "\n",
        "# Logistic Regression Results\n",
        "print(\"Logistic Regression Report:\")\n",
        "y_pred_logreg = logreg_grid.predict(X_test)\n",
        "print(classification_report(y_test, y_pred_logreg))\n",
        "\n",
        "# Random Forest Results\n",
        "print(\"Random Forest Report:\")\n",
        "y_pred_rf = rf_grid.predict(X_test)\n",
        "print(classification_report(y_test, y_pred_rf))\n"
      ],
      "metadata": {
        "id": "3-RQYRkps62n"
      },
      "execution_count": null,
      "outputs": []
    },
    {
      "cell_type": "code",
      "source": [
        "import joblib\n",
        "\n",
        "# Save the best model\n",
        "joblib.dump(rf_grid.best_estimator_, \"churn_model_rf.joblib\")\n",
        "joblib.dump(logreg_grid.best_estimator_, \"churn_model_logreg.joblib\")\n"
      ],
      "metadata": {
        "id": "Qw8JJOYFs_ln"
      },
      "execution_count": null,
      "outputs": []
    }
  ]
}